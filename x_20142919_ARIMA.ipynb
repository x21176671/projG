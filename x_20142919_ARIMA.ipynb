{
 "cells": [
  {
   "cell_type": "code",
   "execution_count": 310,
   "id": "d9fb198d",
   "metadata": {},
   "outputs": [],
   "source": [
    "#Lina Saikute, x20142919#"
   ]
  },
  {
   "cell_type": "code",
   "execution_count": 2,
   "id": "66bc8f36",
   "metadata": {},
   "outputs": [],
   "source": [
    "#import pymongo\n",
    "import pandas as pd\n",
    "#from pymongo import MongoClient\n",
    "import json\n",
    "import numpy as np\n",
    "import seaborn as sns\n",
    "import matplotlib.pyplot as plt\n",
    "%matplotlib inline\n",
    "import datetime\n",
    "import os\n",
    "import matplotlib.pyplot as plt\n",
    "import statistics\n",
    "from statsmodels.tsa.stattools import adfuller\n",
    "from statsmodels.graphics.tsaplots import plot_acf, plot_pacf"
   ]
  },
  {
   "cell_type": "code",
   "execution_count": 3,
   "id": "ebb44f6b",
   "metadata": {},
   "outputs": [],
   "source": [
    "# Loading or Opening the json file\n",
    "with open('price_index.json') as file:\n",
    "        data = json.load(file)"
   ]
  },
  {
   "cell_type": "code",
   "execution_count": 206,
   "id": "4886eff9",
   "metadata": {},
   "outputs": [],
   "source": [
    "#MongoDB creation\n",
    "\n",
    "client = MongoClient()"
   ]
  },
  {
   "cell_type": "code",
   "execution_count": 207,
   "id": "1a06d1c8",
   "metadata": {},
   "outputs": [],
   "source": [
    "# connect to a Mongo client. This connects on the default host and port)\n",
    "from pymongo import MongoClient\n",
    "client = MongoClient('mongodb://192.168.56.30:27017')"
   ]
  },
  {
   "cell_type": "code",
   "execution_count": 208,
   "id": "125dbdb7",
   "metadata": {},
   "outputs": [],
   "source": [
    "# creating database \n",
    "db = client[\"price-index\"]\n"
   ]
  },
  {
   "cell_type": "code",
   "execution_count": 209,
   "id": "c031eb59",
   "metadata": {},
   "outputs": [],
   "source": [
    "#add a collection to that database\n",
    "collection = db['data_collection']\n",
    "\n"
   ]
  },
  {
   "cell_type": "code",
   "execution_count": 356,
   "id": "b7010e35",
   "metadata": {},
   "outputs": [],
   "source": [
    "#create document\n",
    "import datetime\n",
    "post = {\"Sector\": \"Rural\",\n",
    "        \"Year\": 2013,\n",
    "        \"Month\": \"January\",\n",
    "        \"Cereals and products\": 107.5,\n",
    "        \"Meat and fish\": 106.3,\n",
    "        \"Egg\": 108.1,\n",
    "        \"Milk and products\": 104.9,\n",
    "        \"Oils and fats\": 106.1,\n",
    "        \"Fruits\": 103.9,\n",
    "        \"Vegetables\": 101.9,\n",
    "        \"Pulses and products\": 106.1,\n",
    "        \"Sugar and Confectionery\": 106.8,\n",
    "        \"Spices\": 103.1,\n",
    "        \"Non-alcoholic beverages\": 104.8,\n",
    "        \"Prepared meals, snacks, sweets etc.\": 106.7,\n",
    "        \"Food and beverages\": 105.5,\n",
    "        \"Pan, tobacco and intoxicants\": 105.1,\n",
    "        \"Clothing\": 106.5,\n",
    "        \"Footwear\": 105.8,\n",
    "        \"Clothing and footwear\": 106.4,\n",
    "        \"Housing\": \"\",\n",
    "        \"Fuel and light\": 105.5,\n",
    "        \"Household goods and services\": 104.8,\n",
    "        \"Health\": 104,\n",
    "        \"Transport and communication\": 103.3,\n",
    "        \"Recreation and amusement\": 103.4,\n",
    "        \"Education\": 103.8,\n",
    "        \"Personal care and effects\": 104.7,\n",
    "        \"Miscellaneous\": 104,\n",
    "        \"General index\": 105.1}"
   ]
  },
  {
   "cell_type": "code",
   "execution_count": 3,
   "id": "7516902f",
   "metadata": {},
   "outputs": [],
   "source": [
    "##To insert a single document into a collection##\n",
    "posts = db.posts\n",
    "post_id = posts.insert_one(post).inserted_id\n",
    "post_id\n",
    "\n",
    "##Retrieving document\n",
    "import pprint\n",
    "pprint.pprint(posts.find_one())"
   ]
  },
  {
   "cell_type": "code",
   "execution_count": 210,
   "id": "8334ad6c",
   "metadata": {},
   "outputs": [],
   "source": [
    "posts = db.posts"
   ]
  },
  {
   "cell_type": "code",
   "execution_count": 211,
   "id": "6176efcf",
   "metadata": {},
   "outputs": [
    {
     "data": {
      "text/plain": [
       "129"
      ]
     },
     "execution_count": 211,
     "metadata": {},
     "output_type": "execute_result"
    }
   ],
   "source": [
    "##Count documents\n",
    "posts.count_documents({})"
   ]
  },
  {
   "cell_type": "code",
   "execution_count": 212,
   "id": "63e2ab2b",
   "metadata": {},
   "outputs": [],
   "source": [
    "##Conect collection with database\n",
    "data = db.posts"
   ]
  },
  {
   "cell_type": "code",
   "execution_count": 213,
   "id": "d8ff959c",
   "metadata": {},
   "outputs": [],
   "source": [
    "##Convert collection to dataframe\n",
    "#import pandas as pd\n",
    "data = pd.DataFrame(list(data.find()))\n"
   ]
  },
  {
   "cell_type": "code",
   "execution_count": 214,
   "id": "91ff0ed5",
   "metadata": {},
   "outputs": [
    {
     "data": {
      "text/html": [
       "<div>\n",
       "<style scoped>\n",
       "    .dataframe tbody tr th:only-of-type {\n",
       "        vertical-align: middle;\n",
       "    }\n",
       "\n",
       "    .dataframe tbody tr th {\n",
       "        vertical-align: top;\n",
       "    }\n",
       "\n",
       "    .dataframe thead th {\n",
       "        text-align: right;\n",
       "    }\n",
       "</style>\n",
       "<table border=\"1\" class=\"dataframe\">\n",
       "  <thead>\n",
       "    <tr style=\"text-align: right;\">\n",
       "      <th></th>\n",
       "      <th>_id</th>\n",
       "      <th>Sector</th>\n",
       "      <th>Year</th>\n",
       "      <th>Month</th>\n",
       "      <th>Cereals and products</th>\n",
       "      <th>Meat and fish</th>\n",
       "      <th>Egg</th>\n",
       "      <th>Milk and products</th>\n",
       "      <th>Oils and fats</th>\n",
       "      <th>Fruits</th>\n",
       "      <th>...</th>\n",
       "      <th>Housing</th>\n",
       "      <th>Fuel and light</th>\n",
       "      <th>Household goods and services</th>\n",
       "      <th>Health</th>\n",
       "      <th>Transport and communication</th>\n",
       "      <th>Recreation and amusement</th>\n",
       "      <th>Education</th>\n",
       "      <th>Personal care and effects</th>\n",
       "      <th>Miscellaneous</th>\n",
       "      <th>General index</th>\n",
       "    </tr>\n",
       "  </thead>\n",
       "  <tbody>\n",
       "    <tr>\n",
       "      <th>0</th>\n",
       "      <td>62698970c8b5e47aed91b4a6</td>\n",
       "      <td>Rural</td>\n",
       "      <td>2013</td>\n",
       "      <td>January</td>\n",
       "      <td>107.5</td>\n",
       "      <td>106.3</td>\n",
       "      <td>108.1</td>\n",
       "      <td>104.9</td>\n",
       "      <td>106.1</td>\n",
       "      <td>103.9</td>\n",
       "      <td>...</td>\n",
       "      <td></td>\n",
       "      <td>105.5</td>\n",
       "      <td>104.8</td>\n",
       "      <td>104.0</td>\n",
       "      <td>103.3</td>\n",
       "      <td>103.4</td>\n",
       "      <td>103.8</td>\n",
       "      <td>104.7</td>\n",
       "      <td>104.0</td>\n",
       "      <td>105.1</td>\n",
       "    </tr>\n",
       "    <tr>\n",
       "      <th>1</th>\n",
       "      <td>62698976c8b5e47aed91b4a7</td>\n",
       "      <td>Urban</td>\n",
       "      <td>2013</td>\n",
       "      <td>January</td>\n",
       "      <td>110.5</td>\n",
       "      <td>109.1</td>\n",
       "      <td>113.0</td>\n",
       "      <td>103.6</td>\n",
       "      <td>103.4</td>\n",
       "      <td>102.3</td>\n",
       "      <td>...</td>\n",
       "      <td>100.3</td>\n",
       "      <td>105.4</td>\n",
       "      <td>104.8</td>\n",
       "      <td>104.1</td>\n",
       "      <td>103.2</td>\n",
       "      <td>102.9</td>\n",
       "      <td>103.5</td>\n",
       "      <td>104.3</td>\n",
       "      <td>103.7</td>\n",
       "      <td>104.0</td>\n",
       "    </tr>\n",
       "    <tr>\n",
       "      <th>2</th>\n",
       "      <td>62698978c8b5e47aed91b4a8</td>\n",
       "      <td>Rural+Urban</td>\n",
       "      <td>2013</td>\n",
       "      <td>January</td>\n",
       "      <td>108.4</td>\n",
       "      <td>107.3</td>\n",
       "      <td>110.0</td>\n",
       "      <td>104.4</td>\n",
       "      <td>105.1</td>\n",
       "      <td>103.2</td>\n",
       "      <td>...</td>\n",
       "      <td>100.3</td>\n",
       "      <td>105.5</td>\n",
       "      <td>104.8</td>\n",
       "      <td>104.0</td>\n",
       "      <td>103.2</td>\n",
       "      <td>103.1</td>\n",
       "      <td>103.6</td>\n",
       "      <td>104.5</td>\n",
       "      <td>103.9</td>\n",
       "      <td>104.6</td>\n",
       "    </tr>\n",
       "    <tr>\n",
       "      <th>3</th>\n",
       "      <td>62698979c8b5e47aed91b4a9</td>\n",
       "      <td>Rural</td>\n",
       "      <td>2013</td>\n",
       "      <td>February</td>\n",
       "      <td>109.2</td>\n",
       "      <td>108.7</td>\n",
       "      <td>110.2</td>\n",
       "      <td>105.4</td>\n",
       "      <td>106.7</td>\n",
       "      <td>104.0</td>\n",
       "      <td>...</td>\n",
       "      <td></td>\n",
       "      <td>106.2</td>\n",
       "      <td>105.2</td>\n",
       "      <td>104.4</td>\n",
       "      <td>103.9</td>\n",
       "      <td>104.0</td>\n",
       "      <td>104.1</td>\n",
       "      <td>104.6</td>\n",
       "      <td>104.4</td>\n",
       "      <td>105.8</td>\n",
       "    </tr>\n",
       "    <tr>\n",
       "      <th>4</th>\n",
       "      <td>6269897bc8b5e47aed91b4aa</td>\n",
       "      <td>Urban</td>\n",
       "      <td>2013</td>\n",
       "      <td>February</td>\n",
       "      <td>112.9</td>\n",
       "      <td>112.9</td>\n",
       "      <td>116.9</td>\n",
       "      <td>104.0</td>\n",
       "      <td>103.5</td>\n",
       "      <td>103.1</td>\n",
       "      <td>...</td>\n",
       "      <td>100.4</td>\n",
       "      <td>105.7</td>\n",
       "      <td>105.2</td>\n",
       "      <td>104.7</td>\n",
       "      <td>104.4</td>\n",
       "      <td>103.3</td>\n",
       "      <td>103.7</td>\n",
       "      <td>104.3</td>\n",
       "      <td>104.3</td>\n",
       "      <td>104.7</td>\n",
       "    </tr>\n",
       "    <tr>\n",
       "      <th>...</th>\n",
       "      <td>...</td>\n",
       "      <td>...</td>\n",
       "      <td>...</td>\n",
       "      <td>...</td>\n",
       "      <td>...</td>\n",
       "      <td>...</td>\n",
       "      <td>...</td>\n",
       "      <td>...</td>\n",
       "      <td>...</td>\n",
       "      <td>...</td>\n",
       "      <td>...</td>\n",
       "      <td>...</td>\n",
       "      <td>...</td>\n",
       "      <td>...</td>\n",
       "      <td>...</td>\n",
       "      <td>...</td>\n",
       "      <td>...</td>\n",
       "      <td>...</td>\n",
       "      <td>...</td>\n",
       "      <td>...</td>\n",
       "      <td>...</td>\n",
       "    </tr>\n",
       "    <tr>\n",
       "      <th>124</th>\n",
       "      <td>62698a3ac8b5e47aed91b522</td>\n",
       "      <td>Urban</td>\n",
       "      <td>2016</td>\n",
       "      <td>June</td>\n",
       "      <td>125.9</td>\n",
       "      <td>143.9</td>\n",
       "      <td>130.9</td>\n",
       "      <td>131.0</td>\n",
       "      <td>110.2</td>\n",
       "      <td>135.5</td>\n",
       "      <td>...</td>\n",
       "      <td>125.5</td>\n",
       "      <td>115.5</td>\n",
       "      <td>123.2</td>\n",
       "      <td>120.6</td>\n",
       "      <td>112.3</td>\n",
       "      <td>119.9</td>\n",
       "      <td>129.3</td>\n",
       "      <td>118.8</td>\n",
       "      <td>119.6</td>\n",
       "      <td>128.1</td>\n",
       "    </tr>\n",
       "    <tr>\n",
       "      <th>125</th>\n",
       "      <td>62698a3cc8b5e47aed91b523</td>\n",
       "      <td>Rural+Urban</td>\n",
       "      <td>2016</td>\n",
       "      <td>June</td>\n",
       "      <td>127.7</td>\n",
       "      <td>140.5</td>\n",
       "      <td>128.3</td>\n",
       "      <td>132.6</td>\n",
       "      <td>115.5</td>\n",
       "      <td>136.5</td>\n",
       "      <td>...</td>\n",
       "      <td>125.5</td>\n",
       "      <td>123.3</td>\n",
       "      <td>126.4</td>\n",
       "      <td>124.1</td>\n",
       "      <td>114.2</td>\n",
       "      <td>121.7</td>\n",
       "      <td>129.7</td>\n",
       "      <td>119.4</td>\n",
       "      <td>121.5</td>\n",
       "      <td>130.1</td>\n",
       "    </tr>\n",
       "    <tr>\n",
       "      <th>126</th>\n",
       "      <td>62698a3dc8b5e47aed91b524</td>\n",
       "      <td>Rural</td>\n",
       "      <td>2016</td>\n",
       "      <td>July</td>\n",
       "      <td>129.3</td>\n",
       "      <td>139.5</td>\n",
       "      <td>129.6</td>\n",
       "      <td>134.5</td>\n",
       "      <td>119.5</td>\n",
       "      <td>138.5</td>\n",
       "      <td>...</td>\n",
       "      <td>NA</td>\n",
       "      <td>128.2</td>\n",
       "      <td>130.0</td>\n",
       "      <td>126.7</td>\n",
       "      <td>116.4</td>\n",
       "      <td>125.2</td>\n",
       "      <td>130.8</td>\n",
       "      <td>120.9</td>\n",
       "      <td>123.8</td>\n",
       "      <td>133.0</td>\n",
       "    </tr>\n",
       "    <tr>\n",
       "      <th>127</th>\n",
       "      <td>62698a3ec8b5e47aed91b525</td>\n",
       "      <td>Urban</td>\n",
       "      <td>2016</td>\n",
       "      <td>July</td>\n",
       "      <td>126.8</td>\n",
       "      <td>144.2</td>\n",
       "      <td>136.6</td>\n",
       "      <td>131.8</td>\n",
       "      <td>111.0</td>\n",
       "      <td>137.0</td>\n",
       "      <td>...</td>\n",
       "      <td>126.4</td>\n",
       "      <td>115.5</td>\n",
       "      <td>123.5</td>\n",
       "      <td>120.9</td>\n",
       "      <td>111.7</td>\n",
       "      <td>120.3</td>\n",
       "      <td>130.8</td>\n",
       "      <td>120.0</td>\n",
       "      <td>119.9</td>\n",
       "      <td>129.0</td>\n",
       "    </tr>\n",
       "    <tr>\n",
       "      <th>128</th>\n",
       "      <td>62698a3fc8b5e47aed91b526</td>\n",
       "      <td>Rural+Urban</td>\n",
       "      <td>2016</td>\n",
       "      <td>July</td>\n",
       "      <td>128.5</td>\n",
       "      <td>141.2</td>\n",
       "      <td>132.3</td>\n",
       "      <td>133.5</td>\n",
       "      <td>116.4</td>\n",
       "      <td>137.8</td>\n",
       "      <td>...</td>\n",
       "      <td>126.4</td>\n",
       "      <td>123.4</td>\n",
       "      <td>126.9</td>\n",
       "      <td>124.5</td>\n",
       "      <td>113.9</td>\n",
       "      <td>122.4</td>\n",
       "      <td>130.8</td>\n",
       "      <td>120.5</td>\n",
       "      <td>121.9</td>\n",
       "      <td>131.1</td>\n",
       "    </tr>\n",
       "  </tbody>\n",
       "</table>\n",
       "<p>129 rows × 31 columns</p>\n",
       "</div>"
      ],
      "text/plain": [
       "                          _id       Sector  Year     Month  \\\n",
       "0    62698970c8b5e47aed91b4a6        Rural  2013   January   \n",
       "1    62698976c8b5e47aed91b4a7        Urban  2013   January   \n",
       "2    62698978c8b5e47aed91b4a8  Rural+Urban  2013   January   \n",
       "3    62698979c8b5e47aed91b4a9        Rural  2013  February   \n",
       "4    6269897bc8b5e47aed91b4aa        Urban  2013  February   \n",
       "..                        ...          ...   ...       ...   \n",
       "124  62698a3ac8b5e47aed91b522        Urban  2016      June   \n",
       "125  62698a3cc8b5e47aed91b523  Rural+Urban  2016      June   \n",
       "126  62698a3dc8b5e47aed91b524        Rural  2016      July   \n",
       "127  62698a3ec8b5e47aed91b525        Urban  2016      July   \n",
       "128  62698a3fc8b5e47aed91b526  Rural+Urban  2016      July   \n",
       "\n",
       "     Cereals and products  Meat and fish    Egg  Milk and products  \\\n",
       "0                   107.5          106.3  108.1              104.9   \n",
       "1                   110.5          109.1  113.0              103.6   \n",
       "2                   108.4          107.3  110.0              104.4   \n",
       "3                   109.2          108.7  110.2              105.4   \n",
       "4                   112.9          112.9  116.9              104.0   \n",
       "..                    ...            ...    ...                ...   \n",
       "124                 125.9          143.9  130.9              131.0   \n",
       "125                 127.7          140.5  128.3              132.6   \n",
       "126                 129.3          139.5  129.6              134.5   \n",
       "127                 126.8          144.2  136.6              131.8   \n",
       "128                 128.5          141.2  132.3              133.5   \n",
       "\n",
       "     Oils and fats  Fruits  ...  Housing  Fuel and light  \\\n",
       "0            106.1   103.9  ...                    105.5   \n",
       "1            103.4   102.3  ...    100.3           105.4   \n",
       "2            105.1   103.2  ...    100.3           105.5   \n",
       "3            106.7   104.0  ...                    106.2   \n",
       "4            103.5   103.1  ...    100.4           105.7   \n",
       "..             ...     ...  ...      ...             ...   \n",
       "124          110.2   135.5  ...    125.5           115.5   \n",
       "125          115.5   136.5  ...    125.5           123.3   \n",
       "126          119.5   138.5  ...       NA           128.2   \n",
       "127          111.0   137.0  ...    126.4           115.5   \n",
       "128          116.4   137.8  ...    126.4           123.4   \n",
       "\n",
       "     Household goods and services  Health  Transport and communication  \\\n",
       "0                           104.8   104.0                        103.3   \n",
       "1                           104.8   104.1                        103.2   \n",
       "2                           104.8   104.0                        103.2   \n",
       "3                           105.2   104.4                        103.9   \n",
       "4                           105.2   104.7                        104.4   \n",
       "..                            ...     ...                          ...   \n",
       "124                         123.2   120.6                        112.3   \n",
       "125                         126.4   124.1                        114.2   \n",
       "126                         130.0   126.7                        116.4   \n",
       "127                         123.5   120.9                        111.7   \n",
       "128                         126.9   124.5                        113.9   \n",
       "\n",
       "     Recreation and amusement  Education  Personal care and effects  \\\n",
       "0                       103.4      103.8                      104.7   \n",
       "1                       102.9      103.5                      104.3   \n",
       "2                       103.1      103.6                      104.5   \n",
       "3                       104.0      104.1                      104.6   \n",
       "4                       103.3      103.7                      104.3   \n",
       "..                        ...        ...                        ...   \n",
       "124                     119.9      129.3                      118.8   \n",
       "125                     121.7      129.7                      119.4   \n",
       "126                     125.2      130.8                      120.9   \n",
       "127                     120.3      130.8                      120.0   \n",
       "128                     122.4      130.8                      120.5   \n",
       "\n",
       "     Miscellaneous  General index  \n",
       "0            104.0          105.1  \n",
       "1            103.7          104.0  \n",
       "2            103.9          104.6  \n",
       "3            104.4          105.8  \n",
       "4            104.3          104.7  \n",
       "..             ...            ...  \n",
       "124          119.6          128.1  \n",
       "125          121.5          130.1  \n",
       "126          123.8          133.0  \n",
       "127          119.9          129.0  \n",
       "128          121.9          131.1  \n",
       "\n",
       "[129 rows x 31 columns]"
      ]
     },
     "execution_count": 214,
     "metadata": {},
     "output_type": "execute_result"
    }
   ],
   "source": [
    "data"
   ]
  },
  {
   "cell_type": "code",
   "execution_count": 215,
   "id": "9e3f2362",
   "metadata": {},
   "outputs": [],
   "source": [
    "#DATA PREPROCEESING"
   ]
  },
  {
   "cell_type": "code",
   "execution_count": 216,
   "id": "eb368a05",
   "metadata": {},
   "outputs": [
    {
     "data": {
      "text/plain": [
       "0"
      ]
     },
     "execution_count": 216,
     "metadata": {},
     "output_type": "execute_result"
    }
   ],
   "source": [
    "#Data cleaning, detecting missing value\n",
    "#sum of missing values\n",
    "pd.isnull(data).sum().sum()"
   ]
  },
  {
   "cell_type": "code",
   "execution_count": 217,
   "id": "579a7b71",
   "metadata": {},
   "outputs": [
    {
     "data": {
      "text/html": [
       "<div>\n",
       "<style scoped>\n",
       "    .dataframe tbody tr th:only-of-type {\n",
       "        vertical-align: middle;\n",
       "    }\n",
       "\n",
       "    .dataframe tbody tr th {\n",
       "        vertical-align: top;\n",
       "    }\n",
       "\n",
       "    .dataframe thead th {\n",
       "        text-align: right;\n",
       "    }\n",
       "</style>\n",
       "<table border=\"1\" class=\"dataframe\">\n",
       "  <thead>\n",
       "    <tr style=\"text-align: right;\">\n",
       "      <th></th>\n",
       "      <th>_id</th>\n",
       "      <th>Sector</th>\n",
       "      <th>Year</th>\n",
       "      <th>Month</th>\n",
       "      <th>Cereals and products</th>\n",
       "      <th>Meat and fish</th>\n",
       "      <th>Egg</th>\n",
       "      <th>Milk and products</th>\n",
       "      <th>Oils and fats</th>\n",
       "      <th>Fruits</th>\n",
       "      <th>...</th>\n",
       "      <th>Housing</th>\n",
       "      <th>Fuel and light</th>\n",
       "      <th>Household goods and services</th>\n",
       "      <th>Health</th>\n",
       "      <th>Transport and communication</th>\n",
       "      <th>Recreation and amusement</th>\n",
       "      <th>Education</th>\n",
       "      <th>Personal care and effects</th>\n",
       "      <th>Miscellaneous</th>\n",
       "      <th>General index</th>\n",
       "    </tr>\n",
       "  </thead>\n",
       "  <tbody>\n",
       "    <tr>\n",
       "      <th>0</th>\n",
       "      <td>False</td>\n",
       "      <td>False</td>\n",
       "      <td>False</td>\n",
       "      <td>False</td>\n",
       "      <td>False</td>\n",
       "      <td>False</td>\n",
       "      <td>False</td>\n",
       "      <td>False</td>\n",
       "      <td>False</td>\n",
       "      <td>False</td>\n",
       "      <td>...</td>\n",
       "      <td>True</td>\n",
       "      <td>False</td>\n",
       "      <td>False</td>\n",
       "      <td>False</td>\n",
       "      <td>False</td>\n",
       "      <td>False</td>\n",
       "      <td>False</td>\n",
       "      <td>False</td>\n",
       "      <td>False</td>\n",
       "      <td>False</td>\n",
       "    </tr>\n",
       "    <tr>\n",
       "      <th>1</th>\n",
       "      <td>False</td>\n",
       "      <td>False</td>\n",
       "      <td>False</td>\n",
       "      <td>False</td>\n",
       "      <td>False</td>\n",
       "      <td>False</td>\n",
       "      <td>False</td>\n",
       "      <td>False</td>\n",
       "      <td>False</td>\n",
       "      <td>False</td>\n",
       "      <td>...</td>\n",
       "      <td>False</td>\n",
       "      <td>False</td>\n",
       "      <td>False</td>\n",
       "      <td>False</td>\n",
       "      <td>False</td>\n",
       "      <td>False</td>\n",
       "      <td>False</td>\n",
       "      <td>False</td>\n",
       "      <td>False</td>\n",
       "      <td>False</td>\n",
       "    </tr>\n",
       "    <tr>\n",
       "      <th>2</th>\n",
       "      <td>False</td>\n",
       "      <td>False</td>\n",
       "      <td>False</td>\n",
       "      <td>False</td>\n",
       "      <td>False</td>\n",
       "      <td>False</td>\n",
       "      <td>False</td>\n",
       "      <td>False</td>\n",
       "      <td>False</td>\n",
       "      <td>False</td>\n",
       "      <td>...</td>\n",
       "      <td>False</td>\n",
       "      <td>False</td>\n",
       "      <td>False</td>\n",
       "      <td>False</td>\n",
       "      <td>False</td>\n",
       "      <td>False</td>\n",
       "      <td>False</td>\n",
       "      <td>False</td>\n",
       "      <td>False</td>\n",
       "      <td>False</td>\n",
       "    </tr>\n",
       "    <tr>\n",
       "      <th>3</th>\n",
       "      <td>False</td>\n",
       "      <td>False</td>\n",
       "      <td>False</td>\n",
       "      <td>False</td>\n",
       "      <td>False</td>\n",
       "      <td>False</td>\n",
       "      <td>False</td>\n",
       "      <td>False</td>\n",
       "      <td>False</td>\n",
       "      <td>False</td>\n",
       "      <td>...</td>\n",
       "      <td>True</td>\n",
       "      <td>False</td>\n",
       "      <td>False</td>\n",
       "      <td>False</td>\n",
       "      <td>False</td>\n",
       "      <td>False</td>\n",
       "      <td>False</td>\n",
       "      <td>False</td>\n",
       "      <td>False</td>\n",
       "      <td>False</td>\n",
       "    </tr>\n",
       "    <tr>\n",
       "      <th>4</th>\n",
       "      <td>False</td>\n",
       "      <td>False</td>\n",
       "      <td>False</td>\n",
       "      <td>False</td>\n",
       "      <td>False</td>\n",
       "      <td>False</td>\n",
       "      <td>False</td>\n",
       "      <td>False</td>\n",
       "      <td>False</td>\n",
       "      <td>False</td>\n",
       "      <td>...</td>\n",
       "      <td>False</td>\n",
       "      <td>False</td>\n",
       "      <td>False</td>\n",
       "      <td>False</td>\n",
       "      <td>False</td>\n",
       "      <td>False</td>\n",
       "      <td>False</td>\n",
       "      <td>False</td>\n",
       "      <td>False</td>\n",
       "      <td>False</td>\n",
       "    </tr>\n",
       "  </tbody>\n",
       "</table>\n",
       "<p>5 rows × 31 columns</p>\n",
       "</div>"
      ],
      "text/plain": [
       "     _id  Sector   Year  Month  Cereals and products  Meat and fish    Egg  \\\n",
       "0  False   False  False  False                 False          False  False   \n",
       "1  False   False  False  False                 False          False  False   \n",
       "2  False   False  False  False                 False          False  False   \n",
       "3  False   False  False  False                 False          False  False   \n",
       "4  False   False  False  False                 False          False  False   \n",
       "\n",
       "   Milk and products  Oils and fats  Fruits  ...  Housing  Fuel and light  \\\n",
       "0              False          False   False  ...     True           False   \n",
       "1              False          False   False  ...    False           False   \n",
       "2              False          False   False  ...    False           False   \n",
       "3              False          False   False  ...     True           False   \n",
       "4              False          False   False  ...    False           False   \n",
       "\n",
       "   Household goods and services  Health  Transport and communication  \\\n",
       "0                         False   False                        False   \n",
       "1                         False   False                        False   \n",
       "2                         False   False                        False   \n",
       "3                         False   False                        False   \n",
       "4                         False   False                        False   \n",
       "\n",
       "   Recreation and amusement  Education  Personal care and effects  \\\n",
       "0                     False      False                      False   \n",
       "1                     False      False                      False   \n",
       "2                     False      False                      False   \n",
       "3                     False      False                      False   \n",
       "4                     False      False                      False   \n",
       "\n",
       "   Miscellaneous  General index  \n",
       "0          False          False  \n",
       "1          False          False  \n",
       "2          False          False  \n",
       "3          False          False  \n",
       "4          False          False  \n",
       "\n",
       "[5 rows x 31 columns]"
      ]
     },
     "execution_count": 217,
     "metadata": {},
     "output_type": "execute_result"
    }
   ],
   "source": [
    "#Detect a list of missing values\n",
    "missing_vals = [\"NA\", \"\", None, np.NaN]\n",
    "missing = data.isin(missing_vals)\n",
    "missing.head()\n"
   ]
  },
  {
   "cell_type": "code",
   "execution_count": 218,
   "id": "29e7034d",
   "metadata": {},
   "outputs": [
    {
     "name": "stdout",
     "output_type": "stream",
     "text": [
      "0           \n",
      "1      100.3\n",
      "2      100.3\n",
      "3           \n",
      "4      100.4\n",
      "       ...  \n",
      "124    125.5\n",
      "125    125.5\n",
      "126       NA\n",
      "127    126.4\n",
      "128    126.4\n",
      "Name: Housing, Length: 129, dtype: object\n"
     ]
    }
   ],
   "source": [
    "#Column Housing missing values\n",
    "print(data['Housing'])"
   ]
  },
  {
   "cell_type": "code",
   "execution_count": 219,
   "id": "cf0d5141",
   "metadata": {},
   "outputs": [],
   "source": [
    "#Convert column housing type \n",
    "data[\"Housing\"] = pd.to_numeric(data.Housing, errors='coerce')"
   ]
  },
  {
   "cell_type": "code",
   "execution_count": 220,
   "id": "d78bce2f",
   "metadata": {},
   "outputs": [
    {
     "data": {
      "text/plain": [
       "<seaborn.axisgrid.FacetGrid at 0x2921a1a77c0>"
      ]
     },
     "execution_count": 220,
     "metadata": {},
     "output_type": "execute_result"
    },
    {
     "data": {
      "image/png": "[encoded data removed]",
      "text/plain": [
       "<Figure size 360x360 with 1 Axes>"
      ]
     },
     "metadata": {
      "needs_background": "light"
     },
     "output_type": "display_data"
    }
   ],
   "source": [
    "#Histogram distribution plot for decision making whether to use mean, media or mode\n",
    "sns.displot(data.Housing)"
   ]
  },
  {
   "cell_type": "code",
   "execution_count": 221,
   "id": "ec08cec3",
   "metadata": {},
   "outputs": [
    {
     "name": "stdout",
     "output_type": "stream",
     "text": [
      "float64\n"
     ]
    }
   ],
   "source": [
    "# Replace Blank values with DataFrame.replace() methods.\n",
    "data = data.replace(r'^\\s*$', np.nan, regex=True)\n",
    "print(data['Housing'].dtype)"
   ]
  },
  {
   "cell_type": "code",
   "execution_count": 222,
   "id": "62ac7a06",
   "metadata": {},
   "outputs": [],
   "source": [
    "#Replace missing value with mean\n",
    "x = data[\"Housing\"].mean()\n",
    "data[\"Housing\"].fillna(x, inplace = True)"
   ]
  },
  {
   "cell_type": "code",
   "execution_count": 223,
   "id": "7f645611",
   "metadata": {},
   "outputs": [],
   "source": [
    "#Rename names of columns\n",
    "data.rename(columns = {'General index':'CPI'}, inplace = True)#Rename names of columns"
   ]
  },
  {
   "cell_type": "code",
   "execution_count": 224,
   "id": "d9a1fa65",
   "metadata": {},
   "outputs": [],
   "source": [
    "#Create dataframe for future analysis\n",
    "data1 = pd.DataFrame([data.Year, data.Month, data.CPI]).transpose()"
   ]
  },
  {
   "cell_type": "code",
   "execution_count": 225,
   "id": "1e627b94",
   "metadata": {},
   "outputs": [
    {
     "data": {
      "text/plain": [
       "0      2013\n",
       "1      2013\n",
       "2      2013\n",
       "3      2013\n",
       "4      2013\n",
       "       ... \n",
       "124    2016\n",
       "125    2016\n",
       "126    2016\n",
       "127    2016\n",
       "128    2016\n",
       "Name: Year, Length: 129, dtype: Int64"
      ]
     },
     "execution_count": 225,
     "metadata": {},
     "output_type": "execute_result"
    }
   ],
   "source": [
    "#Convert variable year \n",
    "data1['Year'].astype(float).astype('Int64')"
   ]
  },
  {
   "cell_type": "code",
   "execution_count": 226,
   "id": "3a51ece2",
   "metadata": {},
   "outputs": [],
   "source": [
    "#Create dictionary, change month names to numbers\n",
    "mydict = {\"January\":\"01\",\"February\":\"02\",\"March\":\"03\",\"April\":\"04\",\"May\":\"05\",\"June\":\"06\",\"July\":\"07\",\"August\":\"08\",\"September\":\"09\",\"October\":\"10\",\"November\":\"11\",\"December\":\"12\"}"
   ]
  },
  {
   "cell_type": "code",
   "execution_count": 227,
   "id": "8c532014",
   "metadata": {},
   "outputs": [],
   "source": [
    "#Replace month names to month number\n",
    "data1.Month = data1.Month.map(mydict)"
   ]
  },
  {
   "cell_type": "code",
   "execution_count": 228,
   "id": "80eab6ed",
   "metadata": {},
   "outputs": [
    {
     "data": {
      "text/html": [
       "<div>\n",
       "<style scoped>\n",
       "    .dataframe tbody tr th:only-of-type {\n",
       "        vertical-align: middle;\n",
       "    }\n",
       "\n",
       "    .dataframe tbody tr th {\n",
       "        vertical-align: top;\n",
       "    }\n",
       "\n",
       "    .dataframe thead th {\n",
       "        text-align: right;\n",
       "    }\n",
       "</style>\n",
       "<table border=\"1\" class=\"dataframe\">\n",
       "  <thead>\n",
       "    <tr style=\"text-align: right;\">\n",
       "      <th></th>\n",
       "      <th>Year</th>\n",
       "      <th>Month</th>\n",
       "      <th>CPI</th>\n",
       "      <th>Date</th>\n",
       "    </tr>\n",
       "  </thead>\n",
       "  <tbody>\n",
       "    <tr>\n",
       "      <th>0</th>\n",
       "      <td>2013</td>\n",
       "      <td>01</td>\n",
       "      <td>105.1</td>\n",
       "      <td>2013-01</td>\n",
       "    </tr>\n",
       "    <tr>\n",
       "      <th>1</th>\n",
       "      <td>2013</td>\n",
       "      <td>01</td>\n",
       "      <td>104.0</td>\n",
       "      <td>2013-01</td>\n",
       "    </tr>\n",
       "    <tr>\n",
       "      <th>2</th>\n",
       "      <td>2013</td>\n",
       "      <td>01</td>\n",
       "      <td>104.6</td>\n",
       "      <td>2013-01</td>\n",
       "    </tr>\n",
       "    <tr>\n",
       "      <th>3</th>\n",
       "      <td>2013</td>\n",
       "      <td>02</td>\n",
       "      <td>105.8</td>\n",
       "      <td>2013-02</td>\n",
       "    </tr>\n",
       "    <tr>\n",
       "      <th>4</th>\n",
       "      <td>2013</td>\n",
       "      <td>02</td>\n",
       "      <td>104.7</td>\n",
       "      <td>2013-02</td>\n",
       "    </tr>\n",
       "    <tr>\n",
       "      <th>...</th>\n",
       "      <td>...</td>\n",
       "      <td>...</td>\n",
       "      <td>...</td>\n",
       "      <td>...</td>\n",
       "    </tr>\n",
       "    <tr>\n",
       "      <th>124</th>\n",
       "      <td>2016</td>\n",
       "      <td>06</td>\n",
       "      <td>128.1</td>\n",
       "      <td>2016-06</td>\n",
       "    </tr>\n",
       "    <tr>\n",
       "      <th>125</th>\n",
       "      <td>2016</td>\n",
       "      <td>06</td>\n",
       "      <td>130.1</td>\n",
       "      <td>2016-06</td>\n",
       "    </tr>\n",
       "    <tr>\n",
       "      <th>126</th>\n",
       "      <td>2016</td>\n",
       "      <td>07</td>\n",
       "      <td>133.0</td>\n",
       "      <td>2016-07</td>\n",
       "    </tr>\n",
       "    <tr>\n",
       "      <th>127</th>\n",
       "      <td>2016</td>\n",
       "      <td>07</td>\n",
       "      <td>129.0</td>\n",
       "      <td>2016-07</td>\n",
       "    </tr>\n",
       "    <tr>\n",
       "      <th>128</th>\n",
       "      <td>2016</td>\n",
       "      <td>07</td>\n",
       "      <td>131.1</td>\n",
       "      <td>2016-07</td>\n",
       "    </tr>\n",
       "  </tbody>\n",
       "</table>\n",
       "<p>129 rows × 4 columns</p>\n",
       "</div>"
      ],
      "text/plain": [
       "     Year Month    CPI     Date\n",
       "0    2013    01  105.1  2013-01\n",
       "1    2013    01  104.0  2013-01\n",
       "2    2013    01  104.6  2013-01\n",
       "3    2013    02  105.8  2013-02\n",
       "4    2013    02  104.7  2013-02\n",
       "..    ...   ...    ...      ...\n",
       "124  2016    06  128.1  2016-06\n",
       "125  2016    06  130.1  2016-06\n",
       "126  2016    07  133.0  2016-07\n",
       "127  2016    07  129.0  2016-07\n",
       "128  2016    07  131.1  2016-07\n",
       "\n",
       "[129 rows x 4 columns]"
      ]
     },
     "execution_count": 228,
     "metadata": {},
     "output_type": "execute_result"
    }
   ],
   "source": [
    "#Convertting date to appropriate format \n",
    "data1['Date'] = data1['Year'].astype(str) + '-' + data1['Month']\n",
    "data1"
   ]
  },
  {
   "cell_type": "code",
   "execution_count": 229,
   "id": "d6db3eb3",
   "metadata": {},
   "outputs": [
    {
     "name": "stdout",
     "output_type": "stream",
     "text": [
      "   Year Month    CPI     Date\n",
      "0  2013    01  105.1  2013-01\n",
      "1  2013    01  104.0  2013-01\n",
      "2  2013    01  104.6  2013-01\n",
      "3  2013    02  105.8  2013-02\n",
      "4  2013    02  104.7  2013-02\n"
     ]
    }
   ],
   "source": [
    "# Add  a new \"Date\" column\n",
    "data1['Date'] = pd.to_datetime(data1['Date'], format='%Y-%m')\n",
    "#Converting date to appropriate format \n",
    "data1['Date'] = data1['Year'].astype(str) + '-' + data1['Month']\n",
    "\n",
    "print(data1.head())"
   ]
  },
  {
   "cell_type": "code",
   "execution_count": 230,
   "id": "84e210b7",
   "metadata": {},
   "outputs": [],
   "source": [
    "#group data by years \n",
    "newdata = data1.groupby('Date', as_index = False).agg({'CPI': 'sum'})"
   ]
  },
  {
   "cell_type": "code",
   "execution_count": 231,
   "id": "968572f4",
   "metadata": {},
   "outputs": [
    {
     "name": "stdout",
     "output_type": "stream",
     "text": [
      "           CPI\n",
      "Date          \n",
      "2013-01  313.7\n",
      "2013-02  315.8\n",
      "2013-03  316.5\n",
      "2013-04  318.2\n",
      "2013-05  320.7\n"
     ]
    }
   ],
   "source": [
    "# assign index for dataframe\n",
    "newdata.index = newdata.Date\n",
    "del newdata['Date']\n",
    "print(newdata.head())"
   ]
  },
  {
   "cell_type": "code",
   "execution_count": 232,
   "id": "17368542",
   "metadata": {},
   "outputs": [
    {
     "data": {
      "image/png": "[encoded data removed]",
      "text/plain": [
       "<Figure size 432x288 with 1 Axes>"
      ]
     },
     "metadata": {
      "needs_background": "light"
     },
     "output_type": "display_data"
    }
   ],
   "source": [
    "from matplotlib import pyplot\n",
    "series = newdata.CPI\n",
    "series.plot()\n",
    "pyplot.show()"
   ]
  },
  {
   "cell_type": "code",
   "execution_count": 233,
   "id": "11deff77",
   "metadata": {},
   "outputs": [],
   "source": [
    "# Assign columns for future analysis\n",
    "newdata = pd.DataFrame([data1.Date, data1.CPI]).transpose()"
   ]
  },
  {
   "cell_type": "code",
   "execution_count": 234,
   "id": "b1de667e",
   "metadata": {},
   "outputs": [
    {
     "data": {
      "text/html": [
       "<div>\n",
       "<style scoped>\n",
       "    .dataframe tbody tr th:only-of-type {\n",
       "        vertical-align: middle;\n",
       "    }\n",
       "\n",
       "    .dataframe tbody tr th {\n",
       "        vertical-align: top;\n",
       "    }\n",
       "\n",
       "    .dataframe thead th {\n",
       "        text-align: right;\n",
       "    }\n",
       "</style>\n",
       "<table border=\"1\" class=\"dataframe\">\n",
       "  <thead>\n",
       "    <tr style=\"text-align: right;\">\n",
       "      <th></th>\n",
       "      <th>Date</th>\n",
       "      <th>CPI</th>\n",
       "    </tr>\n",
       "  </thead>\n",
       "  <tbody>\n",
       "    <tr>\n",
       "      <th>0</th>\n",
       "      <td>2013-01</td>\n",
       "      <td>105.1</td>\n",
       "    </tr>\n",
       "    <tr>\n",
       "      <th>1</th>\n",
       "      <td>2013-01</td>\n",
       "      <td>104.0</td>\n",
       "    </tr>\n",
       "    <tr>\n",
       "      <th>2</th>\n",
       "      <td>2013-01</td>\n",
       "      <td>104.6</td>\n",
       "    </tr>\n",
       "    <tr>\n",
       "      <th>3</th>\n",
       "      <td>2013-02</td>\n",
       "      <td>105.8</td>\n",
       "    </tr>\n",
       "    <tr>\n",
       "      <th>4</th>\n",
       "      <td>2013-02</td>\n",
       "      <td>104.7</td>\n",
       "    </tr>\n",
       "    <tr>\n",
       "      <th>...</th>\n",
       "      <td>...</td>\n",
       "      <td>...</td>\n",
       "    </tr>\n",
       "    <tr>\n",
       "      <th>124</th>\n",
       "      <td>2016-06</td>\n",
       "      <td>128.1</td>\n",
       "    </tr>\n",
       "    <tr>\n",
       "      <th>125</th>\n",
       "      <td>2016-06</td>\n",
       "      <td>130.1</td>\n",
       "    </tr>\n",
       "    <tr>\n",
       "      <th>126</th>\n",
       "      <td>2016-07</td>\n",
       "      <td>133.0</td>\n",
       "    </tr>\n",
       "    <tr>\n",
       "      <th>127</th>\n",
       "      <td>2016-07</td>\n",
       "      <td>129.0</td>\n",
       "    </tr>\n",
       "    <tr>\n",
       "      <th>128</th>\n",
       "      <td>2016-07</td>\n",
       "      <td>131.1</td>\n",
       "    </tr>\n",
       "  </tbody>\n",
       "</table>\n",
       "<p>129 rows × 2 columns</p>\n",
       "</div>"
      ],
      "text/plain": [
       "        Date    CPI\n",
       "0    2013-01  105.1\n",
       "1    2013-01  104.0\n",
       "2    2013-01  104.6\n",
       "3    2013-02  105.8\n",
       "4    2013-02  104.7\n",
       "..       ...    ...\n",
       "124  2016-06  128.1\n",
       "125  2016-06  130.1\n",
       "126  2016-07  133.0\n",
       "127  2016-07  129.0\n",
       "128  2016-07  131.1\n",
       "\n",
       "[129 rows x 2 columns]"
      ]
     },
     "execution_count": 234,
     "metadata": {},
     "output_type": "execute_result"
    }
   ],
   "source": [
    "newdata"
   ]
  },
  {
   "cell_type": "code",
   "execution_count": 235,
   "id": "b275e318",
   "metadata": {},
   "outputs": [],
   "source": [
    "#Group data by years \n",
    "newdata = data1.groupby('Date', as_index = False).agg({'CPI': 'sum'})"
   ]
  },
  {
   "cell_type": "code",
   "execution_count": 236,
   "id": "8d1daf17",
   "metadata": {},
   "outputs": [
    {
     "name": "stdout",
     "output_type": "stream",
     "text": [
      "Date     object\n",
      "CPI     float64\n",
      "dtype: object\n"
     ]
    }
   ],
   "source": [
    "#Convert \"CPI variable\" from objects to float\n",
    "newdata['CPI'] = newdata['CPI'].astype(float)\n",
    "print(newdata.dtypes)\n"
   ]
  },
  {
   "cell_type": "code",
   "execution_count": 237,
   "id": "474d77cb",
   "metadata": {},
   "outputs": [
    {
     "data": {
      "text/plain": [
       "count     43.000000\n",
       "mean     355.767442\n",
       "std       21.341071\n",
       "min      313.700000\n",
       "25%      341.800000\n",
       "50%      359.000000\n",
       "75%      375.000000\n",
       "max      393.100000\n",
       "Name: CPI, dtype: float64"
      ]
     },
     "execution_count": 237,
     "metadata": {},
     "output_type": "execute_result"
    }
   ],
   "source": [
    "newdata.CPI.describe()"
   ]
  },
  {
   "cell_type": "code",
   "execution_count": 238,
   "id": "da9ec7bb",
   "metadata": {},
   "outputs": [],
   "source": [
    "# Build ARIMA model"
   ]
  },
  {
   "cell_type": "code",
   "execution_count": 239,
   "id": "718f823a",
   "metadata": {},
   "outputs": [
    {
     "name": "stdout",
     "output_type": "stream",
     "text": [
      "ADF Statistic: -1.0859070811646394\n",
      "p-value: 0.7206591527908561\n"
     ]
    }
   ],
   "source": [
    "#Stionary Dickey-Fuller test \n",
    "#CPI\n",
    "\n",
    "#check if variable stationary\n",
    "result = adfuller(newdata.CPI.dropna())\n",
    "print(f\"ADF Statistic: {result[0]}\")\n",
    "print(f\"p-value: {result[1]}\")\n"
   ]
  },
  {
   "cell_type": "code",
   "execution_count": 240,
   "id": "1955e48e",
   "metadata": {},
   "outputs": [
    {
     "name": "stdout",
     "output_type": "stream",
     "text": [
      "ADF Statistic: -4.999342500422405\n",
      "p-value:2.225974724629422e-05\n"
     ]
    }
   ],
   "source": [
    "#diff\n",
    "ad_fuller_result_1 =adfuller(newdata['CPI'].diff()[1:])\n",
    "print (f'ADF Statistic: {ad_fuller_result_1[0]}')\n",
    "print (f'p-value:{ad_fuller_result_1[1]}')"
   ]
  },
  {
   "cell_type": "code",
   "execution_count": 241,
   "id": "d44d310e",
   "metadata": {},
   "outputs": [],
   "source": [
    "#ADF TEST"
   ]
  },
  {
   "cell_type": "code",
   "execution_count": 242,
   "id": "25afd754",
   "metadata": {},
   "outputs": [
    {
     "data": {
      "image/png": "[encoded data removed]",
      "text/plain": [
       "<Figure size 1152x288 with 2 Axes>"
      ]
     },
     "metadata": {
      "needs_background": "light"
     },
     "output_type": "display_data"
    }
   ],
   "source": [
    "from statsmodels.graphics.tsaplots import plot_acf, plot_pacf\n",
    "#Autocorrelation function\n",
    "fig, (ax1, ax2) = plt.subplots(1, 2, figsize =(16, 4))\n",
    "\n",
    "ax1.plot(newdata.CPI)\n",
    "ax1.set_title(\"Original\")\n",
    "plot_acf(newdata.CPI, ax=ax2);\n",
    "    "
   ]
  },
  {
   "cell_type": "code",
   "execution_count": 243,
   "id": "624aff82",
   "metadata": {},
   "outputs": [
    {
     "data": {
      "image/png": "[encoded data removed]",
      "text/plain": [
       "<Figure size 1152x288 with 2 Axes>"
      ]
     },
     "metadata": {
      "needs_background": "light"
     },
     "output_type": "display_data"
    }
   ],
   "source": [
    "#Getting returns of CPI\n",
    "diff = newdata.CPI.diff().dropna() # (d) = 1\n",
    "fig, (ax1, ax2) = plt.subplots(1, 2, figsize =(16, 4))\n",
    "\n",
    "ax1.plot(diff)\n",
    "ax1.set_title(\"Difference once\")\n",
    "plot_acf(diff, ax=ax2);\n",
    "\n"
   ]
  },
  {
   "cell_type": "code",
   "execution_count": 244,
   "id": "21a2453c",
   "metadata": {},
   "outputs": [],
   "source": [
    "#Second differenetiation\n",
    "#diff = newdata.CPI.diff().dropna()# second differentiation\n",
    "#fig, (ax1, ax2) = plt.subplots(1, 2, figsize =(16, 4))\n",
    "\n",
    "#ax1.plot(diff)\n",
    "#ax1.set_title(\"Difference twice\")\n",
    "#plot_acf(diff, ax=ax2)"
   ]
  },
  {
   "cell_type": "code",
   "execution_count": 245,
   "id": "8f8c8b0d",
   "metadata": {},
   "outputs": [
    {
     "data": {
      "image/png": "[encoded data removed]",
      "text/plain": [
       "<Figure size 1152x288 with 2 Axes>"
      ]
     },
     "metadata": {
      "needs_background": "light"
     },
     "output_type": "display_data"
    }
   ],
   "source": [
    "# Partial autocorrelation function PACF (p) = 1\n",
    "from statsmodels.graphics.tsaplots import plot_pacf\n",
    "\n",
    "diff = newdata.CPI.diff().dropna()\n",
    "fig, (ax1, ax2) = plt.subplots(1, 2, figsize =(16, 4))\n",
    "\n",
    "ax1.plot(diff)\n",
    "ax1.set_title(\"Difference once\")\n",
    "ax2.set_ylim(0, 1)\n",
    "plot_pacf(diff, ax=ax2);"
   ]
  },
  {
   "cell_type": "code",
   "execution_count": 246,
   "id": "0ac995e1",
   "metadata": {},
   "outputs": [
    {
     "data": {
      "image/png": "[encoded data removed]",
      "text/plain": [
       "<Figure size 1152x288 with 2 Axes>"
      ]
     },
     "metadata": {
      "needs_background": "light"
     },
     "output_type": "display_data"
    }
   ],
   "source": [
    "#ACF\n",
    "#Moving average (q)=1\n",
    "diff = newdata.CPI.diff().dropna()\n",
    "fig, (ax1, ax2) = plt.subplots(1, 2, figsize =(16, 4))\n",
    "\n",
    "ax1.plot(diff)\n",
    "ax1.set_title(\"Difference once\")\n",
    "ax2.set_ylim(0, 1)\n",
    "plot_acf(diff, ax=ax2);"
   ]
  },
  {
   "cell_type": "code",
   "execution_count": 247,
   "id": "9454018e",
   "metadata": {},
   "outputs": [],
   "source": [
    "#Fitting the ARIMA model with preditor numbers p=1, d=1, q=1\n",
    "#import statsmodels.api as sm"
   ]
  },
  {
   "cell_type": "code",
   "execution_count": 248,
   "id": "7f7a41fe",
   "metadata": {},
   "outputs": [
    {
     "name": "stdout",
     "output_type": "stream",
     "text": [
      "                               SARIMAX Results                                \n",
      "==============================================================================\n",
      "Dep. Variable:                    CPI   No. Observations:                   43\n",
      "Model:                 ARIMA(1, 1, 1)   Log Likelihood                 -94.909\n",
      "Date:                Wed, 27 Apr 2022   AIC                            195.817\n",
      "Time:                        20:59:46   BIC                            201.030\n",
      "Sample:                             0   HQIC                           197.728\n",
      "                                 - 43                                         \n",
      "Covariance Type:                  opg                                         \n",
      "==============================================================================\n",
      "                 coef    std err          z      P>|z|      [0.025      0.975]\n",
      "------------------------------------------------------------------------------\n",
      "ar.L1          0.6909      0.208      3.322      0.001       0.283       1.099\n",
      "ma.L1         -0.0479      0.373     -0.128      0.898      -0.778       0.683\n",
      "sigma2         5.3000      0.795      6.663      0.000       3.741       6.859\n",
      "===================================================================================\n",
      "Ljung-Box (L1) (Q):                   0.26   Jarque-Bera (JB):                59.33\n",
      "Prob(Q):                              0.61   Prob(JB):                         0.00\n",
      "Heteroskedasticity (H):               0.35   Skew:                            -1.24\n",
      "Prob(H) (two-sided):                  0.06   Kurtosis:                         8.27\n",
      "===================================================================================\n",
      "\n",
      "Warnings:\n",
      "[1] Covariance matrix calculated using the outer product of gradients (complex-step).\n"
     ]
    }
   ],
   "source": [
    "#ARIMA MODEL\n",
    "\n",
    "import statsmodels.api as sm\n",
    "\n",
    "# 1,1,1 ARIMA Model\n",
    "model = sm.tsa.arima.ARIMA(newdata.CPI, order=(1,1,1))\n",
    "result = model.fit()\n",
    "print(result.summary())\n",
    "\n"
   ]
  },
  {
   "cell_type": "code",
   "execution_count": 249,
   "id": "554c47af",
   "metadata": {},
   "outputs": [],
   "source": [
    "#plot residuals\n"
   ]
  },
  {
   "cell_type": "code",
   "execution_count": 108,
   "id": "389654cd",
   "metadata": {},
   "outputs": [],
   "source": [
    "dta = sm.datasets.sunspots.load_pandas().newdata\n",
    "    dta.index = pd.date_range(start='2013-01', end='2016-07', freq='M')\n",
    "    res = sm.tsa.ARMA(dta, (3, 0)).fit()\n",
    "    fig, ax = plt.subplots()\n",
    "    fig = res.plot_predict('2016-08', '2017-07', dynamic=True, ax=ax, plot_insample=False)\n",
    "    plt.show()"
   ]
  },
  {
   "cell_type": "code",
   "execution_count": null,
   "id": "37e1169a",
   "metadata": {},
   "outputs": [],
   "source": []
  }
 ],
 "metadata": {
  "kernelspec": {
   "display_name": "Python 3 (ipykernel)",
   "language": "python",
   "name": "python3"
  },
  "language_info": {
   "codemirror_mode": {
    "name": "ipython",
    "version": 3
   },
   "file_extension": ".py",
   "mimetype": "text/x-python",
   "name": "python",
   "nbconvert_exporter": "python",
   "pygments_lexer": "ipython3",
   "version": "3.9.7"
  }
 },
 "nbformat": 4,
 "nbformat_minor": 5
}
